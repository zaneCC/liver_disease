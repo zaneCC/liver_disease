{
 "cells": [
  {
   "cell_type": "markdown",
   "metadata": {},
   "source": [
    "### 任务\n",
    "\n",
    "1.主症、伴随症 -> 证\n",
    "\n",
    "2.主症、伴随症、舌脉象 -> 证\n",
    "\n",
    "【要求：证分多种】"
   ]
  },
  {
   "cell_type": "markdown",
   "metadata": {},
   "source": [
    "#### 数据\n",
    "\n",
    "1. 主症和伴随症\n",
    "\n",
    "主诉症状.xlsx\n",
    "\n",
    "2. 分型\n",
    "\n",
    "分型数值化.xlsx\n",
    "\n",
    "{1:'阳黄证',2:'阴黄证',3:'阴阳黄证|阴阳黄'}"
   ]
  },
  {
   "cell_type": "markdown",
   "metadata": {},
   "source": [
    "#### 一、主症和伴随症的提取\n",
    "\n",
    "使用正则匹配，1为主症，2为伴随症"
   ]
  },
  {
   "cell_type": "code",
   "execution_count": 1,
   "metadata": {},
   "outputs": [
    {
     "name": "stderr",
     "output_type": "stream",
     "text": [
      "<ipython-input-1-9530343a46be>:41: SettingWithCopyWarning: \n",
      "A value is trying to be set on a copy of a slice from a DataFrame\n",
      "\n",
      "See the caveats in the documentation: https://pandas.pydata.org/pandas-docs/stable/user_guide/indexing.html#returning-a-view-versus-a-copy\n",
      "  df[constants.TRANSFORMED_GVALUE][_index] = _updateValue\n",
      "<ipython-input-1-9530343a46be>:36: SettingWithCopyWarning: \n",
      "A value is trying to be set on a copy of a slice from a DataFrame\n",
      "\n",
      "See the caveats in the documentation: https://pandas.pydata.org/pandas-docs/stable/user_guide/indexing.html#returning-a-view-versus-a-copy\n",
      "  df[constants.TRANSFORMED_GVALUE][_index] = _updateValue\n"
     ]
    }
   ],
   "source": [
    "import pandas as pd\n",
    "import numpy as np\n",
    "import re\n",
    "import sys\n",
    "sys.path.append(r'/Users/zhouzhan/Documents/codes/python_code/liver_disease/')\n",
    "import constants\n",
    "import utils.re_utils as re_utils\n",
    "\n",
    "'''\n",
    "    主症状和伴随症状的提取\n",
    "'''\n",
    "\n",
    "PATH = '/Users/zhouzhan/Documents/codes/python_code/liver_disease/data/症状/主诉症状.xlsx'\n",
    "\n",
    "\n",
    "SYMP_DICT = {1:'肝衰竭主症', 2:'肝衰竭伴随症1|肝衰竭伴随症1持续时间量|肝衰竭伴随症2'}\n",
    "def main():\n",
    "    df = pd.read_excel(PATH, sheet_name='Sheet1')\n",
    "\n",
    "    sympList = []\n",
    "    # 数据过滤\n",
    "    for row in df.itertuples():\n",
    "        _index = getattr(row, 'Index')\n",
    "        _ids = getattr(row, constants.INHOSPTIAL_ID)\n",
    "        _type = getattr(row, constants.INCASE_FIELD_NAME)\n",
    "        _value = getattr(row, constants.TRANSFORMED_GVALUE)\n",
    "\n",
    "        _mathResult = re_utils.rematch(_type,SYMP_DICT)\n",
    "        if _mathResult == 0: # 删除与主症，伴随症无关内容\n",
    "            df.drop(index=_index,inplace=True)\n",
    "            continue\n",
    "\n",
    "        if _mathResult == 1: # 主症\n",
    "            _updateValue = _value+'（主症）'\n",
    "            sympList.append(_updateValue)\n",
    "            df[constants.TRANSFORMED_GVALUE][_index] = _updateValue\n",
    "            continue\n",
    "        if _mathResult == 2: # 伴随症 \n",
    "            _updateValue = _value+'（伴随）'\n",
    "            sympList.append(_updateValue)\n",
    "            df[constants.TRANSFORMED_GVALUE][_index] = _updateValue\n",
    "            continue\n",
    "\n",
    "    # 初始化病历症状表\n",
    "    symps = list(set(sympList)) # 获得所有症状列表，作为dataframe的列\n",
    "    ids = list(set(df[constants.INHOSPTIAL_ID]))    # 病人id列表，作为dataframe的行\n",
    "    data = np.zeros((len(ids),len(symps)), dtype=int)   # 数据初始化，所有症状作为列，病人id作为行\n",
    "    resultDF = pd.DataFrame(data=data, columns=symps, index=ids) \n",
    "\n",
    "    # 筛选出：主症、伴随症\n",
    "    for row in df.itertuples():\n",
    "        _index = getattr(row, 'Index')\n",
    "        _ids = getattr(row, constants.INHOSPTIAL_ID)\n",
    "        _type = getattr(row, constants.INCASE_FIELD_NAME)\n",
    "        _value = getattr(row, constants.TRANSFORMED_GVALUE)\n",
    "\n",
    "        resultDF[_value][_ids] = 1 # 记录原始症状\n",
    "\n",
    "\n",
    "    resultDF.to_csv(constants.SYMP_MAIN_ACC_PATH)\n",
    "\n",
    "if __name__ == '__main__':\n",
    "    main()"
   ]
  },
  {
   "cell_type": "markdown",
   "metadata": {},
   "source": [
    "#### 二、主症-伴随症-舌脉象合并\n"
   ]
  },
  {
   "cell_type": "code",
   "execution_count": null,
   "metadata": {},
   "outputs": [],
   "source": [
    "# 主症-伴随症-舌脉象-分型合并\n",
    "def mergeSympMainAcc_Tongue_Diagnosis():\n",
    "    sympDF = pd.read_csv(constants.SYMP_MAIN_ACC_PATH)\n",
    "    tongueDF = pd.read_excel(PATH_TONGUE)\n",
    "    diagnosisDF = pd.read_excel(PATH_DIAGNOSIS)\n",
    "\n",
    "    combineTongueSympDF = pd.merge(sympDF, tongueDF, how='left', on=constants.INHOSPTIAL_ID)\n",
    "    resultDF = pd.merge(combineTongueSympDF, diagnosisDF, how='left', on=constants.INHOSPTIAL_ID)\n",
    "    resultDF.fillna(value=0, inplace=True)\n",
    "\n",
    "    return resultDF"
   ]
  }
 ],
 "metadata": {
  "kernelspec": {
   "display_name": "Python 3",
   "language": "python",
   "name": "python3"
  },
  "language_info": {
   "codemirror_mode": {
    "name": "ipython",
    "version": 3
   },
   "file_extension": ".py",
   "mimetype": "text/x-python",
   "name": "python",
   "nbconvert_exporter": "python",
   "pygments_lexer": "ipython3",
   "version": "3.8.3"
  }
 },
 "nbformat": 4,
 "nbformat_minor": 4
}
