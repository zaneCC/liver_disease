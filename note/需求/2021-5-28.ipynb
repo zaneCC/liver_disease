{
 "cells": [
  {
   "cell_type": "markdown",
   "metadata": {},
   "source": [
    "1. 硕士论文，数据、结论医学对比\n",
    "2. 根据同一个数据，不同类别，对症状统计频次，症状频次与硕士论文对比，是否存在差异\n",
    "3. 不同算法，得到医学结论（符合医生诊断，哪个算法更适合）\n",
    "4. 症状规范化\n",
    "    > 身目尿黄，拆成：身目黄染+尿黄"
   ]
  }
 ],
 "metadata": {
  "kernelspec": {
   "display_name": "Python 3",
   "language": "python",
   "name": "python3"
  },
  "language_info": {
   "codemirror_mode": {
    "name": "ipython",
    "version": 3
   },
   "file_extension": ".py",
   "mimetype": "text/x-python",
   "name": "python",
   "nbconvert_exporter": "python",
   "pygments_lexer": "ipython3",
   "version": "3.8.5"
  }
 },
 "nbformat": 4,
 "nbformat_minor": 4
}
