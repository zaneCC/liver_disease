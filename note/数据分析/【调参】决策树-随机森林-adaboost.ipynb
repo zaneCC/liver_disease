{
 "cells": [
  {
   "cell_type": "code",
   "execution_count": 1,
   "metadata": {},
   "outputs": [],
   "source": [
    "import numpy as np\n",
    "import pandas as pd\n",
    "import sys\n",
    "# sys.path.append(r'/Users/zhouzhan/Documents/codes/python_code/liver_disease/liver_disease/')\n",
    "sys.path.append(r'E:/liver_disease/liver_disease')\n",
    "import constants\n",
    "from sklearn.model_selection import train_test_split"
   ]
  },
  {
   "cell_type": "code",
   "execution_count": 2,
   "metadata": {
    "scrolled": false
   },
   "outputs": [
    {
     "name": "stdout",
     "output_type": "stream",
     "text": [
      "   INHOSPTIAL_ID  ZHENGHOU1  身目尿黄  腹胀  发热  纳差  双下肢水肿  乏力  黑便  头晕  ...  鼻衄  \\\n",
      "0              3          1     1   1   0   0      0   0   0   0  ...   0   \n",
      "1              5          1     1   0   1   0      0   0   0   0  ...   0   \n",
      "2              6          1     0   0   0   0      0   0   0   0  ...   0   \n",
      "3              7          1     1   1   0   0      0   0   0   0  ...   0   \n",
      "4              8          1     0   0   1   0      0   0   0   0  ...   0   \n",
      "\n",
      "   排便不爽  口淡无味  大便稀少  大便未解  脐疝  不能言语交流  双下肢无水肿  肝区疼痛  大便稀溏  \n",
      "0     0     0     0     0   0       0       0     0     0  \n",
      "1     0     0     0     0   0       0       0     0     0  \n",
      "2     0     0     0     0   0       0       0     0     0  \n",
      "3     0     0     0     0   0       0       0     0     0  \n",
      "4     0     0     0     0   0       0       0     0     0  \n",
      "\n",
      "[5 rows x 70 columns]\n"
     ]
    }
   ],
   "source": [
    "# 汇总表-未做特征选择\n",
    "PATH = constants.MERGE_CSV_PATH\n",
    "df = pd.read_csv(PATH)\n",
    "\n",
    "cols = df.columns.values.tolist()\n",
    "cols.remove('INHOSPTIAL_ID');cols.remove('ZHENGHOU1')\n",
    "\n",
    "X = df[cols] \n",
    "y = df['ZHENGHOU1']\n",
    "X_train,X_test,y_train,y_test = train_test_split(X,y,test_size = 0.2,random_state=0)\n",
    "\n",
    "print(df.head())"
   ]
  },
  {
   "cell_type": "code",
   "execution_count": 3,
   "metadata": {},
   "outputs": [
    {
     "name": "stdout",
     "output_type": "stream",
     "text": [
      "证的分布情况: Counter({1: 214, 3: 41, 2: 6})\n"
     ]
    }
   ],
   "source": [
    "# 查看诊断结果的分布情况，看是否存在数据不均衡\n",
    "from collections import Counter\n",
    "print('证的分布情况:',Counter(df['ZHENGHOU1']))"
   ]
  },
  {
   "cell_type": "code",
   "execution_count": 4,
   "metadata": {},
   "outputs": [],
   "source": [
    "# 调参-网格搜索\n",
    "import sklearn.tree as tree\n",
    "from sklearn.model_selection import GridSearchCV\n",
    "\n",
    "param_grid = {'criterion':['entropy','gini'],\n",
    "             'max_depth':[2,3,4,5,6,7,8],\n",
    "             'min_samples_split':[4,8,12,16,20,24,28]}"
   ]
  },
  {
   "cell_type": "code",
   "execution_count": 5,
   "metadata": {},
   "outputs": [],
   "source": [
    "clf = tree.DecisionTreeClassifier() \n",
    "clfcv = GridSearchCV(estimator=clf,param_grid=param_grid,cv=4) # ,scoring='roc_auc' 只；；；；；；"
   ]
  },
  {
   "cell_type": "code",
   "execution_count": 6,
   "metadata": {
    "scrolled": true
   },
   "outputs": [
    {
     "data": {
      "text/plain": [
       "GridSearchCV(cv=4, estimator=DecisionTreeClassifier(),\n",
       "             param_grid={'criterion': ['entropy', 'gini'],\n",
       "                         'max_depth': [2, 3, 4, 5, 6, 7, 8],\n",
       "                         'min_samples_split': [4, 8, 12, 16, 20, 24, 28]})"
      ]
     },
     "execution_count": 6,
     "metadata": {},
     "output_type": "execute_result"
    }
   ],
   "source": [
    "clfcv.fit(X_train,y_train)"
   ]
  },
  {
   "cell_type": "code",
   "execution_count": 7,
   "metadata": {},
   "outputs": [],
   "source": [
    "test_result = clfcv.predict(X_test)"
   ]
  },
  {
   "cell_type": "code",
   "execution_count": 8,
   "metadata": {},
   "outputs": [
    {
     "name": "stdout",
     "output_type": "stream",
     "text": [
      "决策树准确度：\n",
      "              precision    recall  f1-score   support\n",
      "\n",
      "           1       0.82      0.98      0.89        43\n",
      "           2       0.00      0.00      0.00         1\n",
      "           3       0.50      0.11      0.18         9\n",
      "\n",
      "    accuracy                           0.81        53\n",
      "   macro avg       0.44      0.36      0.36        53\n",
      "weighted avg       0.75      0.81      0.76        53\n",
      "\n"
     ]
    },
    {
     "name": "stderr",
     "output_type": "stream",
     "text": [
      "D:\\Programming\\anaconda3\\lib\\site-packages\\sklearn\\metrics\\_classification.py:1221: UndefinedMetricWarning: Precision and F-score are ill-defined and being set to 0.0 in labels with no predicted samples. Use `zero_division` parameter to control this behavior.\n",
      "  _warn_prf(average, modifier, msg_start, len(result))\n"
     ]
    }
   ],
   "source": [
    "# 模型评估\n",
    "import sklearn.metrics as metrics\n",
    "print('决策树准确度：')\n",
    "print(metrics.classification_report(y_test,test_result))"
   ]
  },
  {
   "cell_type": "code",
   "execution_count": 10,
   "metadata": {},
   "outputs": [
    {
     "name": "stdout",
     "output_type": "stream",
     "text": [
      "决策树 AUC (多分类不支持；)\n"
     ]
    }
   ],
   "source": [
    "print('决策树 AUC (多分类不支持；)')\n",
    "# fpr_test,tpr_test,th_test = metrics.roc_curve(y_test,test_result)\n",
    "# print('AUC = %.4f' % metrics.auc(fpr_test,tpr_test))"
   ]
  },
  {
   "cell_type": "code",
   "execution_count": 11,
   "metadata": {},
   "outputs": [
    {
     "name": "stdout",
     "output_type": "stream",
     "text": [
      "{'criterion': 'gini', 'max_depth': 2, 'min_samples_split': 20}\n"
     ]
    }
   ],
   "source": [
    "# 网格搜索最优参数\n",
    "print(clfcv.best_params_)"
   ]
  },
  {
   "cell_type": "code",
   "execution_count": 12,
   "metadata": {},
   "outputs": [],
   "source": [
    "clf2 = tree.DecisionTreeClassifier(criterion='gini',min_samples_split=20,max_depth=2)\n",
    "clf2.fit(X_train,y_train)\n",
    "\n",
    "test_res2 = clf2.predict(X_test)\n"
   ]
  },
  {
   "cell_type": "code",
   "execution_count": 13,
   "metadata": {
    "scrolled": true
   },
   "outputs": [
    {
     "data": {
      "text/plain": [
       "'E:/liver_disease/liver_disease/output/dot\\\\user.pdf'"
      ]
     },
     "execution_count": 13,
     "metadata": {},
     "output_type": "execute_result"
    }
   ],
   "source": [
    "PIC_PATH = 'E:/liver_disease/liver_disease/output/dot/user'\n",
    "\n",
    "\n",
    "import graphviz\n",
    "dot_data = tree.export_graphviz(clf2, out_file=None)\n",
    "graph = graphviz.Source(dot_data)\n",
    "graph.render(PIC_PATH)\n"
   ]
  },
  {
   "cell_type": "code",
   "execution_count": 14,
   "metadata": {},
   "outputs": [
    {
     "data": {
      "image/png": "[encoded data removed]",
      "text/plain": [
       "<PIL.PngImagePlugin.PngImageFile image mode=RGB size=1249x731 at 0x25211AB65E0>"
      ]
     },
     "execution_count": 14,
     "metadata": {},
     "output_type": "execute_result"
    }
   ],
   "source": [
    "from PIL import Image\n",
    "Image.open(PIC_PATH + '.png')"
   ]
  },
  {
   "cell_type": "code",
   "execution_count": 15,
   "metadata": {},
   "outputs": [],
   "source": [
    "param_grid2 = {\n",
    "    'criterion':['entropy','gini'],\n",
    "    'max_depth':[5,6,7,8],\n",
    "    'n_estimators':[11,13,15,20],\n",
    "    'max_features':[0.3,0.4,0.5],\n",
    "    'min_samples_split':[4,8,12,16],\n",
    "}"
   ]
  },
  {
   "cell_type": "code",
   "execution_count": 16,
   "metadata": {},
   "outputs": [],
   "source": [
    "import sklearn.ensemble as ensemble"
   ]
  },
  {
   "cell_type": "code",
   "execution_count": 17,
   "metadata": {},
   "outputs": [
    {
     "data": {
      "text/plain": [
       "GridSearchCV(cv=4, estimator=RandomForestClassifier(),\n",
       "             param_grid={'criterion': ['entropy', 'gini'],\n",
       "                         'max_depth': [5, 6, 7, 8],\n",
       "                         'max_features': [0.3, 0.4, 0.5],\n",
       "                         'min_samples_split': [4, 8, 12, 16],\n",
       "                         'n_estimators': [11, 13, 15, 20]})"
      ]
     },
     "execution_count": 17,
     "metadata": {},
     "output_type": "execute_result"
    }
   ],
   "source": [
    "rfc = ensemble.RandomForestClassifier()\n",
    "\n",
    "rfc_cv = GridSearchCV(estimator=rfc, param_grid=param_grid2,cv=4)\n",
    "\n",
    "rfc_cv.fit(X_train,y_train)"
   ]
  },
  {
   "cell_type": "code",
   "execution_count": 18,
   "metadata": {},
   "outputs": [
    {
     "name": "stdout",
     "output_type": "stream",
     "text": [
      "随机森林精确度：\n",
      "              precision    recall  f1-score   support\n",
      "\n",
      "           1       0.98      0.81      0.88        52\n",
      "           2       0.00      0.00      0.00         0\n",
      "           3       0.00      0.00      0.00         1\n",
      "\n",
      "    accuracy                           0.79        53\n",
      "   macro avg       0.33      0.27      0.29        53\n",
      "weighted avg       0.96      0.79      0.87        53\n",
      "\n"
     ]
    },
    {
     "name": "stderr",
     "output_type": "stream",
     "text": [
      "D:\\Programming\\anaconda3\\lib\\site-packages\\sklearn\\metrics\\_classification.py:1221: UndefinedMetricWarning: Recall and F-score are ill-defined and being set to 0.0 in labels with no true samples. Use `zero_division` parameter to control this behavior.\n",
      "  _warn_prf(average, modifier, msg_start, len(result))\n"
     ]
    }
   ],
   "source": [
    "predict_test = rfc_cv.predict(X_test)\n",
    "\n",
    "print('随机森林精确度：')\n",
    "print(metrics.classification_report(predict_test, y_test))\n"
   ]
  },
  {
   "cell_type": "code",
   "execution_count": 19,
   "metadata": {},
   "outputs": [
    {
     "data": {
      "text/plain": [
       "{'criterion': 'entropy',\n",
       " 'max_depth': 5,\n",
       " 'max_features': 0.4,\n",
       " 'min_samples_split': 8,\n",
       " 'n_estimators': 13}"
      ]
     },
     "execution_count": 19,
     "metadata": {},
     "output_type": "execute_result"
    }
   ],
   "source": [
    "# 查看最佳参数\n",
    "rfc_cv.best_params_"
   ]
  },
  {
   "cell_type": "markdown",
   "metadata": {},
   "source": [
    "#### 思考\n",
    "针对准确度来说， 为什么随机森林的准确度低于决策树？\n",
    "是因为样本本身缘故吗？"
   ]
  },
  {
   "cell_type": "code",
   "execution_count": 22,
   "metadata": {},
   "outputs": [
    {
     "name": "stdout",
     "output_type": "stream",
     "text": [
      "   Unnamed: 0  INHOSPTIAL_ID  ZHENGHOU1  身目尿黄  双下肢水肿  乏力  黑便  腹痛  咳痰  全身胀痛  \\\n",
      "0           0              3          1     1      0   0   0   0   0     0   \n",
      "1           1              5          1     1      0   0   0   0   0     0   \n",
      "2           2              6          1     0      0   0   0   0   0     0   \n",
      "3           3              7          1     1      0   0   0   0   0     0   \n",
      "4           4              8          1     0      0   0   0   0   0     0   \n",
      "\n",
      "   口苦  行走困难  欲呕  肝区疼痛  \n",
      "0   0     0   0     0  \n",
      "1   0     0   0     0  \n",
      "2   0     0   0     0  \n",
      "3   0     0   0     0  \n",
      "4   0     0   0     0  \n"
     ]
    }
   ],
   "source": [
    "# 汇总表-特征选择后\n",
    "PATH = constants.SELECTION_MERGE_CSV_PATH\n",
    "df = pd.read_csv(PATH)\n",
    "\n",
    "cols = df.columns.values.tolist()\n",
    "cols.remove('INHOSPTIAL_ID');cols.remove('ZHENGHOU1')\n",
    "\n",
    "X = df[cols] \n",
    "y = df['ZHENGHOU1']\n",
    "X_train,X_test,y_train,y_test = train_test_split(X,y,test_size = 0.2,random_state=0)\n",
    "\n",
    "print(df.head())"
   ]
  },
  {
   "cell_type": "code",
   "execution_count": 23,
   "metadata": {},
   "outputs": [],
   "source": [
    "param_grid2 = {\n",
    "    'criterion':['entropy','gini'],\n",
    "    'max_depth':[5,6,7,8],\n",
    "    'n_estimators':[11,13,15,20],\n",
    "    'max_features':[0.3,0.4,0.5],\n",
    "    'min_samples_split':[4,8,12,16],\n",
    "}"
   ]
  },
  {
   "cell_type": "code",
   "execution_count": 24,
   "metadata": {},
   "outputs": [],
   "source": [
    "import sklearn.ensemble as ensemble"
   ]
  },
  {
   "cell_type": "code",
   "execution_count": 25,
   "metadata": {},
   "outputs": [
    {
     "data": {
      "text/plain": [
       "GridSearchCV(cv=4, estimator=RandomForestClassifier(),\n",
       "             param_grid={'criterion': ['entropy', 'gini'],\n",
       "                         'max_depth': [5, 6, 7, 8],\n",
       "                         'max_features': [0.3, 0.4, 0.5],\n",
       "                         'min_samples_split': [4, 8, 12, 16],\n",
       "                         'n_estimators': [11, 13, 15, 20]})"
      ]
     },
     "execution_count": 25,
     "metadata": {},
     "output_type": "execute_result"
    }
   ],
   "source": [
    "rfc = ensemble.RandomForestClassifier()\n",
    "\n",
    "rfc_cv = GridSearchCV(estimator=rfc, param_grid=param_grid2,cv=4)\n",
    "\n",
    "rfc_cv.fit(X_train,y_train)"
   ]
  },
  {
   "cell_type": "code",
   "execution_count": 26,
   "metadata": {},
   "outputs": [
    {
     "name": "stdout",
     "output_type": "stream",
     "text": [
      "随机森林精确度：\n",
      "              precision    recall  f1-score   support\n",
      "\n",
      "           1       0.95      0.80      0.87        51\n",
      "           2       0.00      0.00      0.00         0\n",
      "           3       0.00      0.00      0.00         2\n",
      "\n",
      "    accuracy                           0.77        53\n",
      "   macro avg       0.32      0.27      0.29        53\n",
      "weighted avg       0.92      0.77      0.84        53\n",
      "\n"
     ]
    },
    {
     "name": "stderr",
     "output_type": "stream",
     "text": [
      "D:\\Programming\\anaconda3\\lib\\site-packages\\sklearn\\metrics\\_classification.py:1221: UndefinedMetricWarning: Recall and F-score are ill-defined and being set to 0.0 in labels with no true samples. Use `zero_division` parameter to control this behavior.\n",
      "  _warn_prf(average, modifier, msg_start, len(result))\n"
     ]
    }
   ],
   "source": [
    "predict_test = rfc_cv.predict(X_test)\n",
    "\n",
    "print('随机森林精确度：')\n",
    "print(metrics.classification_report(predict_test, y_test))"
   ]
  },
  {
   "cell_type": "code",
   "execution_count": 27,
   "metadata": {},
   "outputs": [
    {
     "data": {
      "text/plain": [
       "{'criterion': 'entropy',\n",
       " 'max_depth': 5,\n",
       " 'max_features': 0.3,\n",
       " 'min_samples_split': 4,\n",
       " 'n_estimators': 11}"
      ]
     },
     "execution_count": 27,
     "metadata": {},
     "output_type": "execute_result"
    }
   ],
   "source": [
    "# 查看最佳参数\n",
    "rfc_cv.best_params_"
   ]
  },
  {
   "cell_type": "code",
   "execution_count": 28,
   "metadata": {},
   "outputs": [],
   "source": [
    "# 再次调参\n",
    "param_grid2 = {\n",
    "    'criterion':['entropy','gini'],\n",
    "    'max_depth':[3,4,5,6],\n",
    "    'n_estimators':[6,9,10,11,13],\n",
    "    'max_features':[0.2,0.3,0.4],\n",
    "    'min_samples_split':[2,3,4,8],\n",
    "}"
   ]
  },
  {
   "cell_type": "code",
   "execution_count": 29,
   "metadata": {},
   "outputs": [
    {
     "data": {
      "text/plain": [
       "GridSearchCV(cv=4, estimator=RandomForestClassifier(),\n",
       "             param_grid={'criterion': ['entropy', 'gini'],\n",
       "                         'max_depth': [3, 4, 5, 6],\n",
       "                         'max_features': [0.2, 0.3, 0.4],\n",
       "                         'min_samples_split': [2, 3, 4, 8],\n",
       "                         'n_estimators': [6, 9, 10, 11, 13]})"
      ]
     },
     "execution_count": 29,
     "metadata": {},
     "output_type": "execute_result"
    }
   ],
   "source": [
    "rfc = ensemble.RandomForestClassifier()\n",
    "\n",
    "rfc_cv = GridSearchCV(estimator=rfc, param_grid=param_grid2,cv=4)\n",
    "\n",
    "rfc_cv.fit(X_train,y_train)"
   ]
  },
  {
   "cell_type": "code",
   "execution_count": 30,
   "metadata": {},
   "outputs": [
    {
     "name": "stdout",
     "output_type": "stream",
     "text": [
      "随机森林精确度：\n",
      "              precision    recall  f1-score   support\n",
      "\n",
      "           1       0.95      0.80      0.87        51\n",
      "           2       0.00      0.00      0.00         0\n",
      "           3       0.00      0.00      0.00         2\n",
      "\n",
      "    accuracy                           0.77        53\n",
      "   macro avg       0.32      0.27      0.29        53\n",
      "weighted avg       0.92      0.77      0.84        53\n",
      "\n"
     ]
    },
    {
     "name": "stderr",
     "output_type": "stream",
     "text": [
      "D:\\Programming\\anaconda3\\lib\\site-packages\\sklearn\\metrics\\_classification.py:1221: UndefinedMetricWarning: Recall and F-score are ill-defined and being set to 0.0 in labels with no true samples. Use `zero_division` parameter to control this behavior.\n",
      "  _warn_prf(average, modifier, msg_start, len(result))\n"
     ]
    }
   ],
   "source": [
    "predict_test = rfc_cv.predict(X_test)\n",
    "\n",
    "print('随机森林精确度：')\n",
    "print(metrics.classification_report(predict_test, y_test))"
   ]
  },
  {
   "cell_type": "code",
   "execution_count": 31,
   "metadata": {},
   "outputs": [
    {
     "data": {
      "text/plain": [
       "{'criterion': 'gini',\n",
       " 'max_depth': 3,\n",
       " 'max_features': 0.4,\n",
       " 'min_samples_split': 3,\n",
       " 'n_estimators': 10}"
      ]
     },
     "execution_count": 31,
     "metadata": {},
     "output_type": "execute_result"
    }
   ],
   "source": [
    "# 查看最佳参数\n",
    "rfc_cv.best_params_"
   ]
  },
  {
   "cell_type": "markdown",
   "metadata": {},
   "source": [
    "#### adaboost 调参\n",
    "> 包括：\n",
    "> 1. adaboost框架本身调参\n",
    "> 2. 选择的弱分类器调参\n"
   ]
  },
  {
   "cell_type": "code",
   "execution_count": 32,
   "metadata": {},
   "outputs": [],
   "source": [
    "from sklearn.ensemble import AdaBoostClassifier"
   ]
  },
  {
   "cell_type": "code",
   "execution_count": 49,
   "metadata": {},
   "outputs": [],
   "source": [
    "# 调参\n",
    "param_grid3 = {\n",
    "   'algorithm':['SAMME','SAMME.R'],\n",
    "    'n_estimators':[6,9,10,11,13],\n",
    "    'learning_rate':[0.4,0.5,0.8,1]\n",
    "}"
   ]
  },
  {
   "cell_type": "code",
   "execution_count": 50,
   "metadata": {},
   "outputs": [
    {
     "name": "stdout",
     "output_type": "stream",
     "text": [
      "dict_keys(['algorithm', 'base_estimator', 'learning_rate', 'n_estimators', 'random_state'])\n"
     ]
    },
    {
     "data": {
      "text/plain": [
       "GridSearchCV(cv=4, estimator=AdaBoostClassifier(),\n",
       "             param_grid={'algorithm': ['SAMME', 'SAMME.R'],\n",
       "                         'learning_rate': [0.4, 0.5, 0.8, 1],\n",
       "                         'n_estimators': [6, 9, 10, 11, 13]})"
      ]
     },
     "execution_count": 50,
     "metadata": {},
     "output_type": "execute_result"
    }
   ],
   "source": [
    "model = AdaBoostClassifier()\n",
    "\n",
    "print(model.get_params().keys())\n",
    "\n",
    "model_cv = GridSearchCV(estimator=model, param_grid=param_grid3,cv=4)\n",
    "\n",
    "model_cv.fit(X_train,y_train)"
   ]
  },
  {
   "cell_type": "code",
   "execution_count": 51,
   "metadata": {},
   "outputs": [
    {
     "name": "stdout",
     "output_type": "stream",
     "text": [
      "adaboost 精确度：\n",
      "              precision    recall  f1-score   support\n",
      "\n",
      "           1       1.00      0.81      0.90        53\n",
      "           2       0.00      0.00      0.00         0\n",
      "           3       0.00      0.00      0.00         0\n",
      "\n",
      "    accuracy                           0.81        53\n",
      "   macro avg       0.33      0.27      0.30        53\n",
      "weighted avg       1.00      0.81      0.90        53\n",
      "\n"
     ]
    },
    {
     "name": "stderr",
     "output_type": "stream",
     "text": [
      "D:\\Programming\\anaconda3\\lib\\site-packages\\sklearn\\metrics\\_classification.py:1221: UndefinedMetricWarning: Recall and F-score are ill-defined and being set to 0.0 in labels with no true samples. Use `zero_division` parameter to control this behavior.\n",
      "  _warn_prf(average, modifier, msg_start, len(result))\n"
     ]
    }
   ],
   "source": [
    "ada_predict_test = model_cv.predict(X_test)\n",
    "\n",
    "print('adaboost 精确度：')\n",
    "print(metrics.classification_report(ada_predict_test, y_test))"
   ]
  },
  {
   "cell_type": "code",
   "execution_count": 52,
   "metadata": {},
   "outputs": [
    {
     "data": {
      "text/plain": [
       "{'algorithm': 'SAMME.R', 'learning_rate': 0.4, 'n_estimators': 6}"
      ]
     },
     "execution_count": 52,
     "metadata": {},
     "output_type": "execute_result"
    }
   ],
   "source": [
    "# 查看最佳参数\n",
    "model_cv.best_params_"
   ]
  },
  {
   "cell_type": "code",
   "execution_count": 53,
   "metadata": {},
   "outputs": [],
   "source": [
    "# 再次调参\n",
    "param_grid3 = {\n",
    "    'n_estimators':[4,5,6,9,10,20,50],\n",
    "    'learning_rate':[0.2,0.3,0.4,0.5]\n",
    "}"
   ]
  },
  {
   "cell_type": "code",
   "execution_count": 54,
   "metadata": {},
   "outputs": [
    {
     "name": "stdout",
     "output_type": "stream",
     "text": [
      "dict_keys(['algorithm', 'base_estimator', 'learning_rate', 'n_estimators', 'random_state'])\n"
     ]
    },
    {
     "data": {
      "text/plain": [
       "GridSearchCV(cv=4, estimator=AdaBoostClassifier(),\n",
       "             param_grid={'learning_rate': [0.2, 0.3, 0.4, 0.5],\n",
       "                         'n_estimators': [4, 5, 6, 9, 10, 20, 50]})"
      ]
     },
     "execution_count": 54,
     "metadata": {},
     "output_type": "execute_result"
    }
   ],
   "source": [
    "model = AdaBoostClassifier()\n",
    "\n",
    "print(model.get_params().keys())\n",
    "\n",
    "model_cv = GridSearchCV(estimator=model, param_grid=param_grid3,cv=4)\n",
    "\n",
    "model_cv.fit(X_train,y_train)"
   ]
  },
  {
   "cell_type": "code",
   "execution_count": 55,
   "metadata": {},
   "outputs": [
    {
     "name": "stdout",
     "output_type": "stream",
     "text": [
      "adaboost 精确度：\n",
      "              precision    recall  f1-score   support\n",
      "\n",
      "           1       1.00      0.81      0.90        53\n",
      "           2       0.00      0.00      0.00         0\n",
      "           3       0.00      0.00      0.00         0\n",
      "\n",
      "    accuracy                           0.81        53\n",
      "   macro avg       0.33      0.27      0.30        53\n",
      "weighted avg       1.00      0.81      0.90        53\n",
      "\n"
     ]
    },
    {
     "name": "stderr",
     "output_type": "stream",
     "text": [
      "D:\\Programming\\anaconda3\\lib\\site-packages\\sklearn\\metrics\\_classification.py:1221: UndefinedMetricWarning: Recall and F-score are ill-defined and being set to 0.0 in labels with no true samples. Use `zero_division` parameter to control this behavior.\n",
      "  _warn_prf(average, modifier, msg_start, len(result))\n"
     ]
    }
   ],
   "source": [
    "ada_predict_test = model_cv.predict(X_test)\n",
    "\n",
    "print('adaboost 精确度：')\n",
    "print(metrics.classification_report(ada_predict_test, y_test))"
   ]
  },
  {
   "cell_type": "code",
   "execution_count": 56,
   "metadata": {},
   "outputs": [
    {
     "data": {
      "text/plain": [
       "{'learning_rate': 0.2, 'n_estimators': 4}"
      ]
     },
     "execution_count": 56,
     "metadata": {},
     "output_type": "execute_result"
    }
   ],
   "source": [
    "# 查看最佳参数\n",
    "model_cv.best_params_"
   ]
  },
  {
   "cell_type": "code",
   "execution_count": 57,
   "metadata": {},
   "outputs": [
    {
     "name": "stdout",
     "output_type": "stream",
     "text": [
      "dict_keys(['algorithm', 'base_estimator', 'learning_rate', 'n_estimators', 'random_state'])\n"
     ]
    },
    {
     "data": {
      "text/plain": [
       "GridSearchCV(cv=4, estimator=AdaBoostClassifier(),\n",
       "             param_grid={'learning_rate': [0.2, 0.3, 0.4, 0.5],\n",
       "                         'n_estimators': [2, 3, 4, 5, 100]})"
      ]
     },
     "execution_count": 57,
     "metadata": {},
     "output_type": "execute_result"
    }
   ],
   "source": [
    "# 再次调参\n",
    "param_grid3 = {\n",
    "    'n_estimators':[2,3,4,5,100],\n",
    "    'learning_rate':[0.2,0.3,0.4,0.5]\n",
    "}\n",
    "model = AdaBoostClassifier()\n",
    "\n",
    "print(model.get_params().keys())\n",
    "\n",
    "model_cv = GridSearchCV(estimator=model, param_grid=param_grid3,cv=4)\n",
    "\n",
    "model_cv.fit(X_train,y_train)\n"
   ]
  },
  {
   "cell_type": "code",
   "execution_count": 58,
   "metadata": {},
   "outputs": [
    {
     "name": "stdout",
     "output_type": "stream",
     "text": [
      "adaboost 精确度：\n",
      "              precision    recall  f1-score   support\n",
      "\n",
      "           1       1.00      0.81      0.90        53\n",
      "           2       0.00      0.00      0.00         0\n",
      "           3       0.00      0.00      0.00         0\n",
      "\n",
      "    accuracy                           0.81        53\n",
      "   macro avg       0.33      0.27      0.30        53\n",
      "weighted avg       1.00      0.81      0.90        53\n",
      "\n"
     ]
    },
    {
     "name": "stderr",
     "output_type": "stream",
     "text": [
      "D:\\Programming\\anaconda3\\lib\\site-packages\\sklearn\\metrics\\_classification.py:1221: UndefinedMetricWarning: Recall and F-score are ill-defined and being set to 0.0 in labels with no true samples. Use `zero_division` parameter to control this behavior.\n",
      "  _warn_prf(average, modifier, msg_start, len(result))\n"
     ]
    }
   ],
   "source": [
    "ada_predict_test = model_cv.predict(X_test)\n",
    "\n",
    "print('adaboost 精确度：')\n",
    "print(metrics.classification_report(ada_predict_test, y_test))"
   ]
  },
  {
   "cell_type": "code",
   "execution_count": 59,
   "metadata": {},
   "outputs": [
    {
     "data": {
      "text/plain": [
       "{'learning_rate': 0.2, 'n_estimators': 2}"
      ]
     },
     "execution_count": 59,
     "metadata": {},
     "output_type": "execute_result"
    }
   ],
   "source": [
    "# 查看最佳参数\n",
    "model_cv.best_params_"
   ]
  },
  {
   "cell_type": "markdown",
   "metadata": {},
   "source": [
    "#### Adaboost 调参总结\n",
    "1. SAMME.R > SAMME\n",
    "2. n_estimators=100， 多些可以增加精度\n",
    "\n",
    "#### 问题\n",
    "{'learning_rate': 0.2, 'n_estimators': 2}\n",
    "奇奇怪怪，为什么弱分类器数目调参显示越少越好呢？\n"
   ]
  }
 ],
 "metadata": {
  "kernelspec": {
   "display_name": "Python 3",
   "language": "python",
   "name": "python3"
  },
  "language_info": {
   "codemirror_mode": {
    "name": "ipython",
    "version": 3
   },
   "file_extension": ".py",
   "mimetype": "text/x-python",
   "name": "python",
   "nbconvert_exporter": "python",
   "pygments_lexer": "ipython3",
   "version": "3.8.3"
  }
 },
 "nbformat": 4,
 "nbformat_minor": 4
}
