{
 "cells": [
  {
   "cell_type": "code",
   "execution_count": null,
   "metadata": {},
   "outputs": [],
   "source": [
    "import numpy as np\n",
    "import pandas as pd\n",
    "import sys\n",
    "sys.path.append(r'/Users/zhouzhan/Documents/codes/python_code/liver_disease/liver_disease/')\n",
    "# sys.path.append(r'E:/liver_disease/liver_disease')\n",
    "import constants\n",
    "from sklearn.model_selection import train_test_split"
   ]
  },
  {
   "cell_type": "code",
   "execution_count": 2,
   "metadata": {},
   "outputs": [],
   "source": [
    "'''\n",
    "汇总表-未做特征选择:    MERGE_CSV_PATH\n",
    "汇总表-特征选择后:     SELECTION_MERGE_CSV_PATH\n",
    "人工选择特征:         SYMP_MAIN_ACC_DIAGNOSIS_PATH\n",
    "SMOTE:              SMOTE_MERGE_CSV_PATH\n",
    "SMOTE Borderline1:  SMOTE_BORDERLINE1_MERGE_CSV_PATH\n",
    "SMOTE_D:            SMOTE_D_MERGE_CSV_PATH\n",
    "SMOTE_BORDERLINE_D: SMOTE_Borderline_D_CSV_PATH\n",
    "随机过采样:           RANDOM_OVER_SAMPLER_CSV_PATH\n",
    "'''\n",
    "PATH = constants.RANDOM_OVER_SAMPLER_CSV_PATH"
   ]
  },
  {
   "cell_type": "code",
   "execution_count": 3,
   "metadata": {},
   "outputs": [
    {
     "name": "stdout",
     "output_type": "stream",
     "text": [
      "   腹胀  发热  尿黄  纳差  双下肢水肿  乏力  黑便  头晕  腹痛  身目黄染  ...  嗜睡  咽部隐痛不适  干呕  排便不爽  \\\n",
      "0   1   0   1   0      0   0   0   0   0     1  ...   0       0   0     0   \n",
      "1   0   1   1   0      0   0   0   0   0     1  ...   0       0   0     0   \n",
      "2   0   0   0   0      0   0   0   0   0     0  ...   0       0   0     0   \n",
      "3   1   0   1   0      0   0   0   0   0     1  ...   0       0   0     0   \n",
      "4   0   1   0   0      0   0   0   0   0     0  ...   0       0   0     0   \n",
      "\n",
      "   口淡无味  大便稀少  大便未解  肝区疼痛  大便稀溏  ZHENGHOU1  \n",
      "0     0     0     0     0     0          1  \n",
      "1     0     0     0     0     0          1  \n",
      "2     0     0     0     0     0          1  \n",
      "3     0     0     0     0     0          1  \n",
      "4     0     0     0     0     0          1  \n",
      "\n",
      "[5 rows x 58 columns]\n"
     ]
    }
   ],
   "source": [
    "df = pd.read_csv(PATH)\n",
    "\n",
    "cols = df.columns.values.tolist()\n",
    "# cols.remove('INHOSPTIAL_ID')\n",
    "cols.remove('ZHENGHOU1')\n",
    "\n",
    "X = df[cols] \n",
    "y = df['ZHENGHOU1']\n",
    "X_train,X_test,y_train,y_test = train_test_split(X,y,test_size = 0.2,random_state=0)\n",
    "\n",
    "print(df.head())"
   ]
  },
  {
   "cell_type": "code",
   "execution_count": 4,
   "metadata": {
    "scrolled": true
   },
   "outputs": [
    {
     "name": "stdout",
     "output_type": "stream",
     "text": [
      "证的分布情况: Counter({1: 214, 2: 214})\n"
     ]
    }
   ],
   "source": [
    "# 查看诊断结果的分布情况，看是否存在数据不均衡\n",
    "from collections import Counter\n",
    "print('证的分布情况:',Counter(df['ZHENGHOU1']))"
   ]
  },
  {
   "cell_type": "markdown",
   "metadata": {},
   "source": [
    "# 决策树调参"
   ]
  },
  {
   "cell_type": "code",
   "execution_count": 5,
   "metadata": {},
   "outputs": [],
   "source": [
    "# 调参-网格搜索-决策树\n",
    "import sklearn.tree as tree\n",
    "from sklearn.model_selection import GridSearchCV\n",
    "\n",
    "param_grid = {'criterion':['entropy','gini'],\n",
    "             'max_depth':[7,8,10,12,14],\n",
    "             'min_samples_split':[2,4,6,8]}"
   ]
  },
  {
   "cell_type": "code",
   "execution_count": 6,
   "metadata": {},
   "outputs": [
    {
     "data": {
      "text/plain": [
       "GridSearchCV(cv=4, estimator=DecisionTreeClassifier(),\n",
       "             param_grid={'criterion': ['entropy', 'gini'],\n",
       "                         'max_depth': [7, 8, 10, 12, 14],\n",
       "                         'min_samples_split': [2, 4, 6, 8]})"
      ]
     },
     "execution_count": 6,
     "metadata": {},
     "output_type": "execute_result"
    }
   ],
   "source": [
    "clf = tree.DecisionTreeClassifier() \n",
    "clfcv = GridSearchCV(estimator=clf,param_grid=param_grid,cv=4) # ,scoring='roc_auc' \n",
    "clfcv.fit(X_train,y_train)"
   ]
  },
  {
   "cell_type": "code",
   "execution_count": 7,
   "metadata": {},
   "outputs": [
    {
     "name": "stdout",
     "output_type": "stream",
     "text": [
      "决策树准确度：\n",
      "              precision    recall  f1-score   support\n",
      "\n",
      "           1       0.66      0.68      0.67        40\n",
      "           2       0.71      0.70      0.70        46\n",
      "\n",
      "    accuracy                           0.69        86\n",
      "   macro avg       0.68      0.69      0.68        86\n",
      "weighted avg       0.69      0.69      0.69        86\n",
      "\n"
     ]
    }
   ],
   "source": [
    "test_result = clfcv.predict(X_test)\n",
    "# 模型评估\n",
    "import sklearn.metrics as metrics\n",
    "print('决策树准确度：')\n",
    "print(metrics.classification_report(y_test,test_result))"
   ]
  },
  {
   "cell_type": "code",
   "execution_count": 8,
   "metadata": {},
   "outputs": [
    {
     "name": "stdout",
     "output_type": "stream",
     "text": [
      "{'criterion': 'gini', 'max_depth': 14, 'min_samples_split': 4}\n"
     ]
    }
   ],
   "source": [
    "# 网格搜索最优参数\n",
    "print(clfcv.best_params_)"
   ]
  },
  {
   "cell_type": "markdown",
   "metadata": {},
   "source": [
    "# 随机森林调参"
   ]
  },
  {
   "cell_type": "code",
   "execution_count": null,
   "metadata": {},
   "outputs": [],
   "source": [
    "import sklearn.ensemble as ensemble\n",
    "\n",
    "param_grid2 = {\n",
    "    'criterion':['entropy','gini'],\n",
    "    'max_depth':[5,6,7,8],\n",
    "    'n_estimators':[15,20,30,40],\n",
    "    'max_features':[0.4,0.5,0.6,0.8],\n",
    "    'min_samples_split':[2,4,6,8],\n",
    "}\n",
    "\n"
   ]
  },
  {
   "cell_type": "code",
   "execution_count": null,
   "metadata": {},
   "outputs": [],
   "source": [
    "rfc = ensemble.RandomForestClassifier()\n",
    "rfc_cv = GridSearchCV(estimator=rfc, param_grid=param_grid2,cv=4)\n",
    "rfc_cv.fit(X_train,y_train)\n"
   ]
  },
  {
   "cell_type": "code",
   "execution_count": 15,
   "metadata": {},
   "outputs": [
    {
     "name": "stdout",
     "output_type": "stream",
     "text": [
      "随机森林精确度：\n",
      "              precision    recall  f1-score   support\n",
      "\n",
      "           1       0.65      0.59      0.62        44\n",
      "           2       0.61      0.67      0.64        42\n",
      "\n",
      "    accuracy                           0.63        86\n",
      "   macro avg       0.63      0.63      0.63        86\n",
      "weighted avg       0.63      0.63      0.63        86\n",
      "\n"
     ]
    }
   ],
   "source": [
    "predict_test = rfc_cv.predict(X_test)\n",
    "\n",
    "print('随机森林精确度：')\n",
    "print(metrics.classification_report(predict_test, y_test))"
   ]
  },
  {
   "cell_type": "code",
   "execution_count": 16,
   "metadata": {},
   "outputs": [
    {
     "data": {
      "text/plain": [
       "{'criterion': 'gini',\n",
       " 'max_depth': 6,\n",
       " 'max_features': 0.6,\n",
       " 'min_samples_split': 2,\n",
       " 'n_estimators': 30}"
      ]
     },
     "execution_count": 16,
     "metadata": {},
     "output_type": "execute_result"
    }
   ],
   "source": [
    "# 查看最佳参数\n",
    "rfc_cv.best_params_"
   ]
  }
 ],
 "metadata": {
  "kernelspec": {
   "display_name": "Python 3",
   "language": "python",
   "name": "python3"
  },
  "language_info": {
   "codemirror_mode": {
    "name": "ipython",
    "version": 3
   },
   "file_extension": ".py",
   "mimetype": "text/x-python",
   "name": "python",
   "nbconvert_exporter": "python",
   "pygments_lexer": "ipython3",
   "version": "3.8.3"
  }
 },
 "nbformat": 4,
 "nbformat_minor": 4
}
