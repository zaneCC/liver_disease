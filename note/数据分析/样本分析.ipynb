{
 "cells": [
  {
   "cell_type": "code",
   "execution_count": 1,
   "metadata": {},
   "outputs": [],
   "source": [
    "import pandas as pd\n",
    "import numpy as np\n",
    "import sys\n",
    "from typing import Counter, Iterable\n",
    "sys.path.append(r'/Users/zhouzhan/Documents/codes/python_code/liver_disease/liver_disease/')\n",
    "# sys.path.append(r'E:/liver_disease/liver_disease')\n",
    "import constants\n",
    "import utils.misc as misc\n",
    "import matplotlib.pyplot as plt\n",
    "import seaborn as sns\n",
    "from sklearn.metrics import accuracy_score,confusion_matrix"
   ]
  },
  {
   "cell_type": "code",
   "execution_count": 2,
   "metadata": {},
   "outputs": [],
   "source": [
    "# 分型数值化\n",
    "# PATH = constants.PATH_DIAGNOSIS_NORMALIZATION\n",
    "# 汇总表-未做特征选择\n",
    "PATH = constants.MERGE_CSV_PATH\n",
    "# 汇总表-特征选择后\n",
    "# PATH = constants.SELECTION_MERGE_CSV_PATH\n",
    "\n",
    "# 汇总表-SMOTE过采样后\n",
    "# PATH = constants.SMOTE_MERGE_CSV_PATH\n",
    "# SMOTE Borderline1 采样\n",
    "# PATH = constants.SMOTE_BORDERLINE1_MERGE_CSV_PATH\n",
    "# SMOTE_D 采样\n",
    "# PATH = constants.SMOTE_D_MERGE_CSV_PATH\n",
    "# SMOTE_BORDERLINE_D 采样\n",
    "# PATH = constants.SMOTE_Borderline_D_CSV_PATH"
   ]
  },
  {
   "cell_type": "code",
   "execution_count": 3,
   "metadata": {},
   "outputs": [],
   "source": [
    "df = pd.read_csv(PATH)"
   ]
  },
  {
   "cell_type": "code",
   "execution_count": 4,
   "metadata": {},
   "outputs": [
    {
     "name": "stdout",
     "output_type": "stream",
     "text": [
      "1    214\n",
      "2     41\n",
      "Name: ZHENGHOU1, dtype: int64\n"
     ]
    }
   ],
   "source": [
    "print(df['ZHENGHOU1'].value_counts())"
   ]
  },
  {
   "cell_type": "code",
   "execution_count": 6,
   "metadata": {
    "scrolled": true
   },
   "outputs": [
    {
     "name": "stdout",
     "output_type": "stream",
     "text": [
      "[('尿黄', 194), ('身目黄染', 186), ('恶心', 112), ('厌油', 105), ('腹胀', 98), ('乏力', 70), ('纳差', 68), ('精神差', 38), ('夜寐差', 27), ('口干', 25), ('呕吐', 24), ('腹痛', 21), ('口苦', 19), ('大便稀溏', 10), ('发热', 9), ('易疲劳', 9), ('黑便', 7), ('腹泻', 7), ('双下肢水肿', 6), ('头晕', 6), ('大便时干时稀', 5), ('呕血', 4), ('肝区疼痛', 4), ('皮肤瘙痒', 3), ('咳嗽', 3), ('大便干', 3), ('尿少', 3), ('欲呕', 3), ('水样便', 3), ('神志欠清', 3), ('鼻塞', 2), ('肛门坠胀感', 2), ('大便次数增多', 2), ('咳痰', 2), ('全身胀痛', 2), ('计算力下降', 2), ('大便偏干', 2), ('排便不爽', 2), ('肝功能受损', 1), ('陶土样大便', 1)]\n"
     ]
    }
   ],
   "source": [
    "# 输出症状频率排序前40\n",
    "dicSym = {}\n",
    "for index, row in df.iteritems():\n",
    "    if index == 'INHOSPTIAL_ID' or index == 'ZHENGHOU1':\n",
    "        continue\n",
    "    dicSym[index] = Counter(df[index])[1]\n",
    "sortDic = sorted(dicSym.items(), key=lambda e:e[1], reverse=True)\n",
    "print(sortDic[:40])"
   ]
  },
  {
   "cell_type": "code",
   "execution_count": 8,
   "metadata": {},
   "outputs": [
    {
     "name": "stdout",
     "output_type": "stream",
     "text": [
      "{'腹胀': {1: 81, 2: 17}, '发热': {1: 8, 2: 1}, '尿黄': {1: 167, 2: 27}, '纳差': {1: 55, 2: 13}, '双下肢水肿': {1: 3, 2: 3}, '乏力': {1: 55, 2: 15}, '黑便': {1: 4, 2: 3}, '头晕': {1: 6, 2: 0}, '腹痛': {1: 19, 2: 2}, '身目黄染': {1: 162, 2: 24}, '恶心': {1: 96, 2: 16}, '腹泻': {1: 4, 2: 3}, '呕吐': {1: 21, 2: 3}, '鼻塞': {1: 2, 2: 0}, '肛门坠胀感': {1: 2, 2: 0}, '大便次数增多': {1: 2, 2: 0}, '皮肤瘙痒': {1: 3, 2: 0}, '咳嗽': {1: 3, 2: 0}, '咳痰': {1: 2, 2: 0}, '呕血': {1: 3, 2: 1}, '肝功能受损': {1: 1, 2: 0}, '厌油': {1: 90, 2: 15}, '全身胀痛': {1: 1, 2: 1}, '陶土样大便': {1: 1, 2: 0}, '精神差': {1: 30, 2: 8}, '体重较前下降kg': {1: 1, 2: 0}, '口苦': {1: 17, 2: 2}, '大便干': {1: 2, 2: 1}, '尿少': {1: 2, 2: 1}, '行走困难': {1: 0, 2: 1}, '易疲劳': {1: 7, 2: 2}, '大便时干时稀': {1: 5, 2: 0}, '夜寐差': {1: 22, 2: 5}, '欲呕': {1: 2, 2: 1}, '口干': {1: 23, 2: 2}, '计算力下降': {1: 2, 2: 0}, '里急后重': {1: 0, 2: 1}, '水样便': {1: 1, 2: 2}, '低热': {1: 0, 2: 0}, '大便偏干': {1: 2, 2: 0}, '气促': {1: 0, 2: 0}, '大汗': {1: 1, 2: 0}, '定向力迟钝': {1: 0, 2: 0}, '吐字不清': {1: 0, 2: 0}, '扑翼样震颤阳性': {1: 0, 2: 0}, '神志欠清': {1: 3, 2: 0}, '四肢欠温': {1: 0, 2: 0}, '尿急': {1: 1, 2: 0}, '尿频': {1: 1, 2: 0}, '头晕头痛': {1: 1, 2: 0}, '反应迟钝': {1: 1, 2: 0}, '无皮肤瘙痒': {1: 1, 2: 0}, '尿痛': {1: 1, 2: 0}, '反酸': {1: 1, 2: 0}, '嗜睡': {1: 1, 2: 0}, '咽部隐痛不适': {1: 1, 2: 0}, '干呕': {1: 1, 2: 0}, '鼻衄': {1: 0, 2: 0}, '排便不爽': {1: 2, 2: 0}, '口淡无味': {1: 1, 2: 0}, '大便稀少': {1: 1, 2: 0}, '大便未解': {1: 0, 2: 1}, '脐疝': {1: 0, 2: 0}, '不能言语交流': {1: 0, 2: 0}, '双下肢无水肿': {1: 0, 2: 0}, '肝区疼痛': {1: 3, 2: 1}, '大便稀溏': {1: 8, 2: 2}}\n"
     ]
    }
   ],
   "source": [
    "# 输出各类的症状频率\n",
    "dicSym = {}\n",
    "for index, row in df.iteritems():\n",
    "    if index == 'INHOSPTIAL_ID' or index == 'ZHENGHOU1':\n",
    "        continue\n",
    "    count_1 = 0; count_2 = 0\n",
    "    for row in df.itertuples():\n",
    "        _value = getattr(row, index)\n",
    "        _class = getattr(row, 'ZHENGHOU1')\n",
    "        if _class == constants.CLASS_1 and _value == 1:\n",
    "            count_1 += 1\n",
    "        elif _class == constants.CLASS_2 and _value == 1:\n",
    "            count_2 += 1\n",
    "    dicSym[index] = {constants.CLASS_1:count_1,constants.CLASS_2:count_2}\n",
    "    \n",
    "print(dicSym)"
   ]
  }
 ],
 "metadata": {
  "kernelspec": {
   "display_name": "Python 3",
   "language": "python",
   "name": "python3"
  },
  "language_info": {
   "codemirror_mode": {
    "name": "ipython",
    "version": 3
   },
   "file_extension": ".py",
   "mimetype": "text/x-python",
   "name": "python",
   "nbconvert_exporter": "python",
   "pygments_lexer": "ipython3",
   "version": "3.8.3"
  }
 },
 "nbformat": 4,
 "nbformat_minor": 4
}
