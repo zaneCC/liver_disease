{
 "cells": [
  {
   "cell_type": "code",
   "execution_count": 1,
   "metadata": {},
   "outputs": [],
   "source": [
    "import numpy as np\n",
    "import pandas as pd\n",
    "import sys\n",
    "sys.path.append(r'/Users/zhouzhan/Documents/codes/python_code/liver_disease/liver_disease/')\n",
    "# sys.path.append(r'E:/liver_disease/liver_disease')\n",
    "import constants\n",
    "from sklearn.model_selection import train_test_split"
   ]
  },
  {
   "cell_type": "code",
   "execution_count": 2,
   "metadata": {},
   "outputs": [],
   "source": [
    "'''\n",
    "汇总表-未做特征选择:    MERGE_CSV_PATH\n",
    "汇总表-特征选择后:     SELECTION_MERGE_CSV_PATH\n",
    "人工选择特征:         SYMP_MAIN_ACC_DIAGNOSIS_PATH\n",
    "SMOTE:              SMOTE_MERGE_CSV_PATH\n",
    "SMOTE Borderline1:  SMOTE_BORDERLINE1_MERGE_CSV_PATH\n",
    "SMOTE_D:            SMOTE_D_MERGE_CSV_PATH\n",
    "SMOTE_BORDERLINE_D: SMOTE_Borderline_D_CSV_PATH\n",
    "随机过采样:           RANDOM_OVER_SAMPLER_CSV_PATH\n",
    "'''\n",
    "PATH = constants.RANDOM_OVER_SAMPLER_CSV_PATH"
   ]
  },
  {
   "cell_type": "code",
   "execution_count": 3,
   "metadata": {
    "scrolled": true
   },
   "outputs": [
    {
     "name": "stdout",
     "output_type": "stream",
     "text": [
      "   腹胀  发热  尿黄  纳差  双下肢水肿  乏力  黑便  头晕  腹痛  身目黄染  ...  嗜睡  咽部隐痛不适  干呕  排便不爽  \\\n",
      "0   1   0   1   0      0   0   0   0   0     1  ...   0       0   0     0   \n",
      "1   0   1   1   0      0   0   0   0   0     1  ...   0       0   0     0   \n",
      "2   0   0   0   0      0   0   0   0   0     0  ...   0       0   0     0   \n",
      "3   1   0   1   0      0   0   0   0   0     1  ...   0       0   0     0   \n",
      "4   0   1   0   0      0   0   0   0   0     0  ...   0       0   0     0   \n",
      "\n",
      "   口淡无味  大便稀少  大便未解  肝区疼痛  大便稀溏  ZHENGHOU1  \n",
      "0     0     0     0     0     0          1  \n",
      "1     0     0     0     0     0          1  \n",
      "2     0     0     0     0     0          1  \n",
      "3     0     0     0     0     0          1  \n",
      "4     0     0     0     0     0          1  \n",
      "\n",
      "[5 rows x 58 columns]\n"
     ]
    }
   ],
   "source": [
    "df = pd.read_csv(PATH)\n",
    "\n",
    "cols = df.columns.values.tolist()\n",
    "# cols.remove('INHOSPTIAL_ID')\n",
    "cols.remove('ZHENGHOU1')\n",
    "\n",
    "X = df[cols] \n",
    "y = df['ZHENGHOU1']\n",
    "X_train,X_test,y_train,y_test = train_test_split(X,y,test_size = 0.2,random_state=0)\n",
    "\n",
    "print(df.head())"
   ]
  },
  {
   "cell_type": "markdown",
   "metadata": {},
   "source": [
    "# 决策树-随机过采样"
   ]
  },
  {
   "cell_type": "code",
   "execution_count": 4,
   "metadata": {},
   "outputs": [
    {
     "data": {
      "text/plain": [
       "DecisionTreeClassifier(max_depth=12, min_samples_split=4)"
      ]
     },
     "execution_count": 4,
     "metadata": {},
     "output_type": "execute_result"
    }
   ],
   "source": [
    "from sklearn.tree import DecisionTreeClassifier\n",
    "\n",
    "# 使用最优参数：{'criterion': 'gini', 'max_depth': 12, 'min_samples_split': 4}\n",
    "clf = DecisionTreeClassifier(criterion='gini',max_depth=12,min_samples_split=4)\n",
    "clf.fit(X_train,y_train)\n"
   ]
  },
  {
   "cell_type": "code",
   "execution_count": 6,
   "metadata": {
    "scrolled": false
   },
   "outputs": [
    {
     "name": "stdout",
     "output_type": "stream",
     "text": [
      "决策树准确度：\n",
      "              precision    recall  f1-score   support\n",
      "\n",
      "           1       0.65      0.65      0.65        40\n",
      "           2       0.70      0.70      0.70        46\n",
      "\n",
      "    accuracy                           0.67        86\n",
      "   macro avg       0.67      0.67      0.67        86\n",
      "weighted avg       0.67      0.67      0.67        86\n",
      "\n"
     ]
    }
   ],
   "source": [
    "test_result = clf.predict(X_test)\n",
    "# 模型评估\n",
    "import sklearn.metrics as metrics\n",
    "print('决策树准确度：')\n",
    "print(metrics.classification_report(y_test,test_result))"
   ]
  },
  {
   "cell_type": "code",
   "execution_count": 23,
   "metadata": {
    "scrolled": false
   },
   "outputs": [
    {
     "name": "stdout",
     "output_type": "stream",
     "text": [
      "[0.03674245 0.02656094 0.06163897 0.11646141 0.08487297 0.07168017\n",
      " 0.0681469  0.00845921 0.03081812 0.07979709 0.06129289 0.008946\n",
      " 0.06799628 0.         0.         0.         0.01358627 0.\n",
      " 0.03982823 0.00534626 0.         0.06387493 0.         0.\n",
      " 0.01744245 0.         0.01638639 0.         0.         0.\n",
      " 0.         0.01747881 0.         0.         0.0208193  0.\n",
      " 0.         0.         0.         0.01868425 0.00285963 0.\n",
      " 0.         0.         0.         0.         0.         0.\n",
      " 0.         0.         0.         0.02988106 0.         0.\n",
      " 0.         0.01139011 0.01900893]\n",
      "[ 3  4  9  5  6 12 21  2 10 18  0  8 51  1 34 56 39 31 24 26 16 55 11  7\n",
      " 19 40 14 13 44 46 45 47 48 49 50 52 53 54 15 20 17 32 38 37 36 35 41 33\n",
      " 30 43 29 27 25 23 22 42 28]\n",
      "57\n",
      "[ 3  4  9  5  6 12 21  2 10 18  0  8 51  1 34 56 39 31 24 26]\n"
     ]
    }
   ],
   "source": [
    "# 变量贡献度\n",
    "features = list(X_test.columns)\n",
    "importances = clf.feature_importances_\n",
    "indices = np.argsort(importances)[::-1]\n",
    "num_features = len(importances)\n",
    "\n",
    "print(importances)\n",
    "print(indices)\n",
    "print(num_features)\n",
    "\n",
    "top_indices = indices[0:20]\n",
    "print(top_indices)\n",
    "top_features = len(top_indices)"
   ]
  },
  {
   "cell_type": "code",
   "execution_count": 35,
   "metadata": {
    "scrolled": true
   },
   "outputs": [
    {
     "data": {
      "image/png": "[encoded data removed]",
      "text/plain": [
       "<Figure size 432x288 with 1 Axes>"
      ]
     },
     "metadata": {
      "needs_background": "light"
     },
     "output_type": "display_data"
    }
   ],
   "source": [
    "#将特征重要度以柱状图展示\n",
    "\n",
    "import matplotlib.pyplot as plt\n",
    "import matplotlib as mpl\n",
    "\n",
    "# 设置字体\n",
    "mpl.rcParams['font.sans-serif'] = [u'simHei']\n",
    "mpl.rcParams['axes.unicode_minus'] = False\n",
    "\n",
    "plt.figure()\n",
    "plt.title(\"特征贡献度-决策树-随机过采样\")\n",
    "plt.bar(range(top_features), importances[top_indices], color=\"g\", align=\"center\")\n",
    "plt.xticks(range(top_features), [features[i] for i in top_indices], rotation='45')\n",
    "plt.xlim([-1, top_features])\n",
    "plt.show()\n"
   ]
  },
  {
   "cell_type": "code",
   "execution_count": 27,
   "metadata": {
    "scrolled": true
   },
   "outputs": [
    {
     "name": "stdout",
     "output_type": "stream",
     "text": [
      "纳差 - 0.116\n",
      "双下肢水肿 - 0.085\n",
      "身目黄染 - 0.080\n",
      "乏力 - 0.072\n",
      "黑便 - 0.068\n",
      "呕吐 - 0.068\n",
      "厌油 - 0.064\n",
      "尿黄 - 0.062\n",
      "恶心 - 0.061\n",
      "咳痰 - 0.040\n",
      "腹胀 - 0.037\n",
      "腹痛 - 0.031\n",
      "排便不爽 - 0.030\n",
      "发热 - 0.027\n",
      "口干 - 0.021\n",
      "大便稀溏 - 0.019\n",
      "大汗 - 0.019\n",
      "大便时干时稀 - 0.017\n",
      "精神差 - 0.017\n",
      "口苦 - 0.016\n"
     ]
    }
   ],
   "source": [
    "#输出各个特征的重要度\n",
    "for i in top_indices:\n",
    "    print (\"{0} - {1:.3f}\".format(features[i], importances[i]))"
   ]
  },
  {
   "cell_type": "markdown",
   "metadata": {},
   "source": [
    "# 随机森林-随机过采样"
   ]
  },
  {
   "cell_type": "code",
   "execution_count": 28,
   "metadata": {},
   "outputs": [
    {
     "data": {
      "text/plain": [
       "RandomForestClassifier(criterion='entropy', max_depth=7, max_features=0.6,\n",
       "                       min_samples_split=8, n_estimators=20)"
      ]
     },
     "execution_count": 28,
     "metadata": {},
     "output_type": "execute_result"
    }
   ],
   "source": [
    "from sklearn.ensemble import RandomForestClassifier\n",
    "# 使用最优参数\n",
    "'''\n",
    "{'criterion': 'entropy',\n",
    " 'max_depth': 7,\n",
    " 'max_features': 0.6,\n",
    " 'min_samples_split': 8,\n",
    " 'n_estimators': 20}\n",
    "'''\n",
    "rfc = RandomForestClassifier(criterion='entropy',max_depth=7,max_features=0.6,min_samples_split=8,n_estimators=20)\n",
    "rfc.fit(X_train,y_train)"
   ]
  },
  {
   "cell_type": "code",
   "execution_count": 30,
   "metadata": {},
   "outputs": [
    {
     "name": "stdout",
     "output_type": "stream",
     "text": [
      "随机森林准确度：\n",
      "              precision    recall  f1-score   support\n",
      "\n",
      "           1       0.61      0.70      0.65        40\n",
      "           2       0.70      0.61      0.65        46\n",
      "\n",
      "    accuracy                           0.65        86\n",
      "   macro avg       0.65      0.65      0.65        86\n",
      "weighted avg       0.66      0.65      0.65        86\n",
      "\n"
     ]
    }
   ],
   "source": [
    "test_result = rfc.predict(X_test)\n",
    "# 模型评估\n",
    "import sklearn.metrics as metrics\n",
    "print('随机森林准确度：')\n",
    "print(metrics.classification_report(y_test,test_result))"
   ]
  },
  {
   "cell_type": "code",
   "execution_count": 31,
   "metadata": {
    "scrolled": true
   },
   "outputs": [
    {
     "name": "stdout",
     "output_type": "stream",
     "text": [
      "[0.04656915 0.01549593 0.05371132 0.05356243 0.113302   0.04656762\n",
      " 0.08450758 0.00834367 0.06540109 0.07643857 0.04449727 0.0305126\n",
      " 0.05147376 0.         0.00175061 0.00048165 0.00698144 0.01308387\n",
      " 0.02242335 0.00073681 0.00431871 0.02923723 0.00173655 0.\n",
      " 0.02716705 0.         0.02698991 0.         0.00164933 0.00347994\n",
      " 0.01514046 0.00625455 0.04408336 0.         0.02345409 0.\n",
      " 0.0052544  0.02470459 0.         0.         0.         0.\n",
      " 0.         0.         0.         0.         0.         0.\n",
      " 0.         0.         0.         0.00148881 0.         0.\n",
      " 0.01542535 0.00964104 0.02413389]\n",
      "[ 4  6  9  8  2  3 12  0  5 10 32 11 21 24 26 37 56 34 18  1 54 30 17 55\n",
      "  7 16 31 36 20 29 14 22 28 51 19 15 44 48 40 35 53 52 33 50 41 49 47 23\n",
      " 46 45 13 27 42 25 43 38 39]\n",
      "57\n",
      "[ 4  6  9  8  2  3 12  0  5 10 32 11 21 24 26 37 56 34 18  1]\n"
     ]
    }
   ],
   "source": [
    "# 变量贡献度\n",
    "features = list(X_test.columns)\n",
    "importances = rfc.feature_importances_\n",
    "indices = np.argsort(importances)[::-1]\n",
    "num_features = len(importances)\n",
    "\n",
    "print(importances)\n",
    "print(indices)\n",
    "print(num_features)\n",
    "\n",
    "top_indices = indices[0:20]\n",
    "print(top_indices)\n",
    "top_features = len(top_indices)"
   ]
  },
  {
   "cell_type": "code",
   "execution_count": 36,
   "metadata": {
    "scrolled": true
   },
   "outputs": [
    {
     "data": {
      "image/png": "[encoded data removed]",
      "text/plain": [
       "<Figure size 432x288 with 1 Axes>"
      ]
     },
     "metadata": {
      "needs_background": "light"
     },
     "output_type": "display_data"
    }
   ],
   "source": [
    "#将特征重要度以柱状图展示\n",
    "\n",
    "import matplotlib.pyplot as plt\n",
    "import matplotlib as mpl\n",
    "\n",
    "# 设置字体\n",
    "mpl.rcParams['font.sans-serif'] = [u'simHei']\n",
    "mpl.rcParams['axes.unicode_minus'] = False\n",
    "\n",
    "plt.figure()\n",
    "plt.title(\"特征贡献度-随机森林-随机过采样\")\n",
    "plt.bar(range(top_features), importances[top_indices], color=\"g\", align=\"center\")\n",
    "plt.xticks(range(top_features), [features[i] for i in top_indices], rotation='45')\n",
    "plt.xlim([-1, top_features])\n",
    "plt.show()"
   ]
  },
  {
   "cell_type": "code",
   "execution_count": 33,
   "metadata": {},
   "outputs": [
    {
     "name": "stdout",
     "output_type": "stream",
     "text": [
      "双下肢水肿 - 0.113\n",
      "黑便 - 0.085\n",
      "身目黄染 - 0.076\n",
      "腹痛 - 0.065\n",
      "尿黄 - 0.054\n",
      "纳差 - 0.054\n",
      "呕吐 - 0.051\n",
      "腹胀 - 0.047\n",
      "乏力 - 0.047\n",
      "恶心 - 0.044\n",
      "夜寐差 - 0.044\n",
      "腹泻 - 0.031\n",
      "厌油 - 0.029\n",
      "精神差 - 0.027\n",
      "口苦 - 0.027\n",
      "水样便 - 0.025\n",
      "大便稀溏 - 0.024\n",
      "口干 - 0.023\n",
      "咳痰 - 0.022\n",
      "发热 - 0.015\n"
     ]
    }
   ],
   "source": [
    "#输出各个特征的重要度\n",
    "for i in top_indices:\n",
    "    print (\"{0} - {1:.3f}\".format(features[i], importances[i]))"
   ]
  }
 ],
 "metadata": {
  "kernelspec": {
   "display_name": "Python 3",
   "language": "python",
   "name": "python3"
  },
  "language_info": {
   "codemirror_mode": {
    "name": "ipython",
    "version": 3
   },
   "file_extension": ".py",
   "mimetype": "text/x-python",
   "name": "python",
   "nbconvert_exporter": "python",
   "pygments_lexer": "ipython3",
   "version": "3.8.3"
  }
 },
 "nbformat": 4,
 "nbformat_minor": 4
}
