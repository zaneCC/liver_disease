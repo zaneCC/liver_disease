{
 "cells": [
  {
   "cell_type": "markdown",
   "metadata": {},
   "source": [
    "## sklearn"
   ]
  },
  {
   "cell_type": "markdown",
   "metadata": {},
   "source": [
    "使用sklearn：LogisticRegression, SVM.SVC, DecisionTreeClassifier, RandomForestClassifier, AdaBoostClassifier"
   ]
  },
  {
   "cell_type": "markdown",
   "metadata": {},
   "source": [
    "### 使用汇总表数据\n",
    "\n",
    "其症状为：所有症状\n",
    "\n",
    "地址：MERGE_CSV_PATH = \"/Users/zhouzhan/Documents/codes/python_code/liver_disease/output/汇总表.csv\"\n"
   ]
  },
  {
   "cell_type": "markdown",
   "metadata": {},
   "source": [
    "预测结果："
   ]
  },
  {
   "cell_type": "markdown",
   "metadata": {},
   "source": [
    "------------- 【评价】测试数据 ---------------\n",
    "LogisticRegression()\n",
    "\n",
    "0.7547169811320755\n",
    "\n",
    "SVC(kernel='linear', random_state=0)\n",
    "\n",
    "0.7547169811320755\n",
    "\n",
    "DecisionTreeClassifier(max_depth=5)\n",
    "\n",
    "0.7547169811320755\n",
    "\n",
    "RandomForestClassifier(criterion='entropy', n_estimators=200)\n",
    "\n",
    "0.6981132075471698\n",
    "\n",
    "AdaBoostClassifier(base_estimator=DecisionTreeClassifier(max_depth=5),n_estimators=100)\n",
    "\n",
    "0.7169811320754716"
   ]
  },
  {
   "cell_type": "markdown",
   "metadata": {},
   "source": [
    "### 使用主症-伴随症-舌脉象-分型\n",
    "其症状为：主诉症状（主症-伴随症）\n",
    "\n",
    "地址：SYMP_MAIN_ACC_TONGUE_DIAGNOSIS_PATH = '/Users/zhouzhan/Documents/codes/python_code/liver_disease/output/主症-伴随症-舌脉象-分型.csv'\n"
   ]
  },
  {
   "cell_type": "markdown",
   "metadata": {},
   "source": [
    "预测结果："
   ]
  },
  {
   "cell_type": "markdown",
   "metadata": {},
   "source": [
    "LogisticRegression()\n",
    "\n",
    "0.7619047619047619\n",
    "\n",
    "SVC(kernel='linear', random_state=0)\n",
    "\n",
    "0.7619047619047619\n",
    "\n",
    "DecisionTreeClassifier(max_depth=5)\n",
    "\n",
    "0.7619047619047619\n",
    "\n",
    "RandomForestClassifier(criterion='entropy', n_estimators=200)\n",
    "\n",
    "0.7857142857142857\n",
    "\n",
    "AdaBoostClassifier(base_estimator=DecisionTreeClassifier(max_depth=5),n_estimators=100)\n",
    "\n",
    "0.7619047619047619"
   ]
  }
 ],
 "metadata": {
  "kernelspec": {
   "display_name": "Python 3",
   "language": "python",
   "name": "python3"
  },
  "language_info": {
   "codemirror_mode": {
    "name": "ipython",
    "version": 3
   },
   "file_extension": ".py",
   "mimetype": "text/x-python",
   "name": "python",
   "nbconvert_exporter": "python",
   "pygments_lexer": "ipython3",
   "version": "3.8.3"
  }
 },
 "nbformat": 4,
 "nbformat_minor": 4
}
