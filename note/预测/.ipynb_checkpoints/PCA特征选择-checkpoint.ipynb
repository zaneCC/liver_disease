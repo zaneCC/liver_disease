{
 "cells": [
  {
   "cell_type": "markdown",
   "metadata": {},
   "source": [
    "### 未做特征选择数据\n",
    "#### 交叉验证\n",
    "| 模型 | 结果| std |\n",
    "|  ----  |  ----  | ----  |\n",
    "|LogisticRegressionCV| 81.99 % |1.73 %\n",
    "|SVC| 80.46 %|3.21 %\n",
    "|DecisionTreeClassifier(max_depth=5)|79.69 %|3.04 %\n",
    "|RandomForestClassifier(criterion='entropy')|80.46 %|3.21 %\n",
    "|AdaBoostClassifier(n_estimators=100)|74.81 %|10.53 %"
   ]
  },
  {
   "cell_type": "markdown",
   "metadata": {},
   "source": [
    "#### 使用PCA特征选择\n",
    "| 模型 | 结果|\n",
    "|  ----  |  ----  |\n",
    "|LogisticRegressionCV|81.13 %\n",
    "|SVC|81.13 %\n",
    "|DecisionTreeClassifier(max_depth=5)|77.36 %\n",
    "|RandomForestClassifier(criterion='entropy')|75.47 %\n",
    "|AdaBoostClassifier(n_estimators=100)|79.25 %"
   ]
  }
 ],
 "metadata": {
  "kernelspec": {
   "display_name": "Python 3",
   "language": "python",
   "name": "python3"
  },
  "language_info": {
   "codemirror_mode": {
    "name": "ipython",
    "version": 3
   },
   "file_extension": ".py",
   "mimetype": "text/x-python",
   "name": "python",
   "nbconvert_exporter": "python",
   "pygments_lexer": "ipython3",
   "version": "3.8.3"
  }
 },
 "nbformat": 4,
 "nbformat_minor": 4
}
